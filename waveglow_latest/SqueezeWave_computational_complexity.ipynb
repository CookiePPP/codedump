{
 "cells": [
  {
   "cell_type": "code",
   "execution_count": 1,
   "metadata": {
    "colab": {},
    "colab_type": "code",
    "id": "s8VYGy15fwqN"
   },
   "outputs": [],
   "source": [
    "import numpy as np"
   ]
  },
  {
   "cell_type": "code",
   "execution_count": 20,
   "metadata": {},
   "outputs": [
    {
     "name": "stdout",
     "output_type": "stream",
     "text": [
      "[64, 256] [256, 96] \n",
      "\n",
      "64 256\n",
      "256 96\n"
     ]
    }
   ],
   "source": [
    "cond_channels = 256\n",
    "cond_layers = 2\n",
    "if cond_layers:\n",
    "    dimensions = [64,]+[cond_channels]*(cond_layers-1)+[96,]\n",
    "    in_dims = dimensions[:-1]\n",
    "    out_dims = dimensions[1:]\n",
    "    print(in_dims, out_dims, \"\\n\")\n",
    "    for i in range(len(in_dims)):\n",
    "        print(in_dims[i], out_dims[i])\n",
    "else:\n",
    "    print(\"None\")"
   ]
  },
  {
   "cell_type": "code",
   "execution_count": null,
   "metadata": {},
   "outputs": [],
   "source": []
  },
  {
   "cell_type": "markdown",
   "metadata": {
    "colab_type": "text",
    "id": "MDp5WalGf5Ji"
   },
   "source": [
    "**WaveGlow**"
   ]
  },
  {
   "cell_type": "code",
   "execution_count": 25,
   "metadata": {},
   "outputs": [],
   "source": [
    "def MAC_calc(duration, n_audio_channel_init, L, kernal_size, C_wn, C_wn_middle, n_flows, n_layers, n_early_output, n_early_output_interval, C_mel):\n",
    "    n_audio_channels = []\n",
    "    n_audio = n_audio_channel_init\n",
    "    for i in range(n_flows):\n",
    "      if i % n_early_output_interval == 0 and i > 0:\n",
    "        n_audio -= n_early_output\n",
    "      n_audio_channels.append(n_audio) # audio channel after early output\n",
    "\n",
    "    # in_layers\n",
    "    WN_in_layers = L * kernal_size * C_wn * C_wn_middle * n_layers * n_flows\n",
    "    print('MACs of in_layers', WN_in_layers / duration / 1e9)\n",
    "    # cond layers\n",
    "    WN_cond_layers = L * C_mel * C_wn_middle * n_layers * n_flows\n",
    "    print('MACs of cond_layers', WN_cond_layers / duration / 1e9)\n",
    "    # res skip layers\n",
    "    WN_res_layers = (L * C_wn * C_wn_middle * (n_layers - 1) + L * C_wn * C_wn) * n_flows\n",
    "    print('MACs of res_skip_layers', WN_res_layers / duration / 1e9)\n",
    "    # invertible convs\n",
    "    inv1x1 = np.sum([n**2 * L for n in n_audio_channels])\n",
    "    print('MACs of invertible conv layers', inv1x1 / duration / 1e9)\n",
    "    # start\n",
    "    starts = np.sum([n / 2 * C_wn * L for n in n_audio_channels])\n",
    "    print('MACs of start conv layers', starts / duration / 1e9)\n",
    "    # end\n",
    "    ends = np.sum([C_wn * n * L for n in n_audio_channels])\n",
    "    print('MACs of end conv layers', ends / duration / 1e9)\n",
    "    # total\n",
    "    WG_total = WN_in_layers + WN_cond_layers + WN_res_layers + inv1x1 + starts + ends\n",
    "    print('Total number of MACs is', WG_total / duration / 1e9)"
   ]
  },
  {
   "cell_type": "code",
   "execution_count": 26,
   "metadata": {},
   "outputs": [
    {
     "name": "stdout",
     "output_type": "stream",
     "text": [
      "MACs of in_layers 104.0449536\n",
      "MACs of cond_layers 86.704128\n",
      "MACs of res_skip_layers 32.514048\n",
      "MACs of invertible conv layers 0.0012789\n",
      "MACs of start conv layers 0.0254016\n",
      "MACs of end conv layers 0.0508032\n",
      "Total number of MACs is 223.3406133\n"
     ]
    }
   ],
   "source": [
    "duration = 16384/22050\n",
    "n_audio_channel_init = 8 # initial audio channel\n",
    "L = (22050*duration)//n_audio_channel_init # audio length\n",
    "kernal_size = 3\n",
    "C_wn = 256 # input channel size of in_layer\n",
    "C_wn_middle = C_wn * 2 # output channel size of in_layer and cond_layer\n",
    "n_flows = 12\n",
    "n_layers = 8\n",
    "n_early_output = 2\n",
    "n_early_output_interval = 4\n",
    "C_mel = 80 * n_layers # After upsampling and unfolding \n",
    "\n",
    "MAC_calc(duration, n_audio_channel_init, L, kernal_size, C_wn, C_wn_middle, n_flows, n_layers, n_early_output, n_early_output_interval, C_mel)"
   ]
  },
  {
   "cell_type": "code",
   "execution_count": 45,
   "metadata": {},
   "outputs": [
    {
     "name": "stdout",
     "output_type": "stream",
     "text": [
      "MACs of in_layers 77.9575104\n",
      "MACs of cond_layers 16.241148\n",
      "MACs of res_skip_layers 24.5421792\n",
      "MACs of invertible conv layers 0.012688396875\n",
      "MACs of start conv layers 0.06767145\n",
      "MACs of end conv layers 0.1353429\n",
      "Total number of MACs is 118.956540346875\n"
     ]
    }
   ],
   "source": [
    "duration = 16384/22050\n",
    "n_audio_channel_init = 24 # initial audio channel\n",
    "L = (22050*duration)//n_audio_channel_init # audio length\n",
    "kernal_size = 3\n",
    "C_wn = 256 # input channel size of in_layer\n",
    "C_wn_middle = C_wn * 2 # output channel size of in_layer and cond_layer\n",
    "n_flows = 24\n",
    "n_layers = 9\n",
    "n_early_output = 2\n",
    "n_early_output_interval = 24\n",
    "C_mel = 160 # After upsampling and unfolding \n",
    "\n",
    "MAC_calc(duration, n_audio_channel_init, L, kernal_size, C_wn, C_wn_middle, n_flows, n_layers, n_early_output, n_early_output_interval, C_mel)"
   ]
  },
  {
   "cell_type": "code",
   "execution_count": 46,
   "metadata": {},
   "outputs": [
    {
     "name": "stdout",
     "output_type": "stream",
     "text": [
      "MACs of in_layers 12.954816\n",
      "MACs of cond_layers 1.79928\n",
      "MACs of res_skip_layers 3.8864448\n",
      "MACs of invertible conv layers 0.042170625\n",
      "MACs of start conv layers 0.067473\n",
      "MACs of end conv layers 0.134946\n",
      "Total number of MACs is 18.885130425\n"
     ]
    }
   ],
   "source": [
    "duration = 16384/22050\n",
    "n_audio_channel_init = 120 # initial audio channel\n",
    "L = (22050*duration)//n_audio_channel_init # audio length\n",
    "kernal_size = 3\n",
    "C_wn = 384 # input channel size of in_layer\n",
    "C_wn_middle = C_wn * 2 # output channel size of in_layer and cond_layer\n",
    "n_flows = 16\n",
    "n_layers = 5\n",
    "n_early_output = 2\n",
    "n_early_output_interval = 24\n",
    "C_mel = 160 # After upsampling and unfolding \n",
    "\n",
    "MAC_calc(duration, n_audio_channel_init, L, kernal_size, C_wn, C_wn_middle, n_flows, n_layers, n_early_output, n_early_output_interval, C_mel)"
   ]
  },
  {
   "cell_type": "code",
   "execution_count": null,
   "metadata": {},
   "outputs": [],
   "source": [
    "#\t\t\t\t\tLength\tn_chann\tcompute\treduc\tMOS\n",
    "WaveGlow    \t\t2048\t8\t\t228.9\t1x\t\t4.57±0.04\n",
    "SqueezeWave-128L\t128\t\t256\t\t3.78\t60x\t\t4.07±0.06\n",
    "SqueezeWave-64L\t\t64\t\t256\t\t2.16\t106x\t3.77±0.05\n",
    "SqueezeWave-128S\t128\t\t128\t\t1.06\t214x\t3.79±0.05\n",
    "SqueezeWave-64S\t\t64\t\t128\t\t0.68\t332x\t2.74±0.04"
   ]
  },
  {
   "cell_type": "code",
   "execution_count": 75,
   "metadata": {},
   "outputs": [
    {
     "name": "stdout",
     "output_type": "stream",
     "text": [
      "128.0 256.0\n"
     ]
    }
   ],
   "source": [
    "print(16384/128, 16384/64)"
   ]
  },
  {
   "cell_type": "code",
   "execution_count": 15,
   "metadata": {
    "colab": {
     "base_uri": "https://localhost:8080/",
     "height": 136
    },
    "colab_type": "code",
    "id": "wrBBjKSYf89M",
    "outputId": "4d77bc19-7a81-4f0b-bcad-65c42c4b2e9c"
   },
   "outputs": [
    {
     "name": "stdout",
     "output_type": "stream",
     "text": [
      "MACs of in_layers 106.63367079724138\n",
      "MACs of cond_layers 88.86139233103448\n",
      "MACs of res_skip_layers 33.32302212413793\n",
      "MACs of invertible conv layers 0.00131072\n",
      "MACs of start conv layers 0.02603361103448276\n",
      "MACs of end conv layers 0.05206722206896552\n",
      "Total number of MACs is 228.89749680551725\n"
     ]
    }
   ],
   "source": [
    "L = 2048 # audio length\n",
    "n_audio_channel_init = 8 # initial audio channel \n",
    "C_mel = 80 * 8 # After upsampling and unfolding \n",
    "kernal_size = 3\n",
    "C_wn = 256 # input channel size of in_layer\n",
    "C_wn_middle = C_wn * 2 # output channel size of in_layer and cond_layer\n",
    "n_flows = 12\n",
    "n_layers = 8\n",
    "n_early_output = 2\n",
    "n_early_output_interval = 4\n",
    "duration = 0.725\n",
    "\n",
    "n_audio_channels = []\n",
    "n_audio = n_audio_channel_init\n",
    "for i in range(n_flows):\n",
    "  if i % n_early_output_interval == 0 and i > 0:\n",
    "    n_audio -= n_early_output\n",
    "  n_audio_channels.append(n_audio) # audio channel after early output\n",
    "\n",
    "# in_layers\n",
    "WN_in_layers = L * kernal_size * C_wn * C_wn_middle * n_layers * n_flows\n",
    "print('MACs of in_layers', WN_in_layers / duration / 1e9)\n",
    "# cond layers\n",
    "WN_cond_layers = L * C_mel * C_wn_middle * n_layers * n_flows \n",
    "print('MACs of cond_layers', WN_cond_layers / duration / 1e9)\n",
    "# res skip layers\n",
    "WN_res_layers = (L * C_wn * C_wn_middle * (n_layers - 1) + L * C_wn * C_wn) * n_flows\n",
    "print('MACs of res_skip_layers', WN_res_layers / duration / 1e9)\n",
    "# invertible convs\n",
    "inv1x1 = np.sum([n**2 * L for n in n_audio_channels])\n",
    "print('MACs of invertible conv layers', inv1x1 / duration / 1e9)\n",
    "# start\n",
    "starts = np.sum([n / 2 * C_wn * L for n in n_audio_channels])\n",
    "print('MACs of start conv layers', starts / duration / 1e9)\n",
    "# end\n",
    "ends = np.sum([C_wn * n * L for n in n_audio_channels])\n",
    "print('MACs of end conv layers', ends / duration / 1e9)\n",
    "# total\n",
    "WG_total = WN_in_layers + WN_cond_layers + WN_res_layers + inv1x1 + starts + ends\n",
    "print('Total number of MACs is', WG_total / duration / 1e9)"
   ]
  },
  {
   "cell_type": "markdown",
   "metadata": {
    "colab_type": "text",
    "id": "QRQheCWjgC9D"
   },
   "source": [
    "SqueezeWave L=64, C=128"
   ]
  },
  {
   "cell_type": "code",
   "execution_count": 6,
   "metadata": {
    "colab": {
     "base_uri": "https://localhost:8080/",
     "height": 153
    },
    "colab_type": "code",
    "id": "zSlwPlvUgJue",
    "outputId": "18e282ea-a071-4117-ba08-6e6abdc36c68"
   },
   "outputs": [
    {
     "name": "stdout",
     "output_type": "stream",
     "text": [
      "MACs of in_layers 0.2809460524137931\n",
      "MACs of cond_layers 0.17355740689655172\n",
      "MACs of res_skip_layers 0.1388459255172414\n",
      "MACs of invertible conv layers 0.0502141351724138\n",
      "MACs of start conv layers 0.014643906206896554\n",
      "MACs of end conv layers 0.029287812413793107\n",
      "Total number of MACs is 0.6874952386206896\n",
      "Reduction compared with WaveGlow 332.9441193872855\n"
     ]
    }
   ],
   "source": [
    "L = 64 # audio length\n",
    "n_audio_channel_init = 256 # initial audio channel \n",
    "L_mel = 64 # mel-spectrogram length\n",
    "C_mel =80 # mel-spectrogram channel \n",
    "kernal_size = 3\n",
    "C_wn = 128 # input channel size of in_layer\n",
    "C_wn_middle = C_wn * 2 # output channel size of in_layer and cond_layer\n",
    "n_flows = 12\n",
    "n_layers = 8\n",
    "n_early_output = 16\n",
    "n_early_output_interval = 2\n",
    "duration = 0.725\n",
    "\n",
    "n_audio_channels = []\n",
    "n_audio = n_audio_channel_init\n",
    "for i in range(n_flows):\n",
    "  if i % n_early_output_interval == 0 and i > 0:\n",
    "    n_audio -= n_early_output\n",
    "  n_audio_channels.append(n_audio) # audio channel after early output\n",
    "\n",
    "# in_layers\n",
    "WN_in_layers = L * kernal_size * C_wn * n_layers * n_flows # depthwise\n",
    "WN_in_layers += L * C_wn * C_wn_middle * n_layers * n_flows # pointwise\n",
    "print('MACs of in_layers', WN_in_layers / duration / 1e9)\n",
    "# cond_layers\n",
    "WN_cond_layers = L_mel * C_mel * C_wn_middle * n_layers * n_flows\n",
    "print('MACs of cond_layers', WN_cond_layers / duration / 1e9)\n",
    "# res_skip_layers\n",
    "WN_res_layers = L * C_wn * C_wn * n_layers * n_flows\n",
    "print('MACs of res_skip_layers', WN_res_layers / duration / 1e9)\n",
    "# invertible convs\n",
    "inv1x1 = np.sum([n**2 * L for n in n_audio_channels])\n",
    "print('MACs of invertible conv layers', inv1x1 / duration / 1e9)\n",
    "# start\n",
    "starts = np.sum([n / 2 * C_wn * L for n in n_audio_channels])\n",
    "print('MACs of start conv layers', starts / duration / 1e9)\n",
    "#end\n",
    "ends = np.sum([C_wn * n * L for n in n_audio_channels])\n",
    "print('MACs of end conv layers', ends / duration / 1e9)\n",
    "# total\n",
    "total = WN_in_layers + WN_cond_layers + WN_res_layers + inv1x1 + starts + ends\n",
    "print('Total number of MACs is', total / duration / 1e9)\n",
    "print('Reduction compared with WaveGlow', WG_total / total)"
   ]
  },
  {
   "cell_type": "markdown",
   "metadata": {
    "colab_type": "text",
    "id": "M6K8zJ6cugYj"
   },
   "source": [
    "**SqueezeWave L=64, C=256**"
   ]
  },
  {
   "cell_type": "code",
   "execution_count": 4,
   "metadata": {
    "colab": {
     "base_uri": "https://localhost:8080/",
     "height": 153
    },
    "colab_type": "code",
    "id": "ju5Xa4oAhScO",
    "outputId": "c91361be-ff73-4113-a584-6dda74c3690e"
   },
   "outputs": [
    {
     "name": "stdout",
     "output_type": "stream",
     "text": [
      "MACs of in_layers 1.1172758068965518\n",
      "MACs of cond_layers 0.34711481379310344\n",
      "MACs of res_skip_layers 0.5553837020689656\n",
      "MACs of invertible conv layers 0.0502141351724138\n",
      "MACs of start conv layers 0.029287812413793107\n",
      "MACs of end conv layers 0.058575624827586215\n",
      "Total number of MACs is 2.157851895172414\n",
      "Reduction compared with WaveGlow 106.07655572544667\n"
     ]
    }
   ],
   "source": [
    "L = 64 # audio length\n",
    "n_audio_channel_init = 256 # initial audio channel \n",
    "L_mel = 64 # mel-spectrogram length\n",
    "C_mel =80 # mel-spectrogram channel \n",
    "kernal_size = 3\n",
    "C_wn = 256 # input channel size of in_layer\n",
    "C_wn_middle = C_wn * 2 # output channel size of in_layer and cond_layer\n",
    "n_flows = 12\n",
    "n_layers = 8\n",
    "n_early_output = 16\n",
    "n_early_output_interval = 2\n",
    "duration = 0.725\n",
    "\n",
    "n_audio_channels = []\n",
    "n_audio = n_audio_channel_init\n",
    "for i in range(n_flows):\n",
    "  if i % n_early_output_interval == 0 and i > 0:\n",
    "    n_audio -= n_early_output\n",
    "  n_audio_channels.append(n_audio) # audio channel after early output\n",
    "\n",
    "# in_layers\n",
    "WN_in_layers = L * kernal_size * C_wn * n_layers * n_flows # depthwise\n",
    "WN_in_layers += L * C_wn * C_wn_middle * n_layers * n_flows # pointwise\n",
    "print('MACs of in_layers', WN_in_layers / duration / 1e9)\n",
    "# cond_layers\n",
    "WN_cond_layers = L_mel * C_mel * C_wn_middle * n_layers * n_flows\n",
    "print('MACs of cond_layers', WN_cond_layers / duration / 1e9)\n",
    "# res_skip_layers\n",
    "WN_res_layers = L * C_wn * C_wn * n_layers * n_flows\n",
    "print('MACs of res_skip_layers', WN_res_layers / duration / 1e9)\n",
    "# invertible convs\n",
    "inv1x1 = np.sum([n**2 * L for n in n_audio_channels])\n",
    "print('MACs of invertible conv layers', inv1x1 / duration / 1e9)\n",
    "# start\n",
    "starts = np.sum([n / 2 * C_wn * L for n in n_audio_channels])\n",
    "print('MACs of start conv layers', starts / duration / 1e9)\n",
    "#end\n",
    "ends = np.sum([C_wn * n * L for n in n_audio_channels])\n",
    "print('MACs of end conv layers', ends / duration / 1e9)\n",
    "# total\n",
    "total = WN_in_layers + WN_cond_layers + WN_res_layers + inv1x1 + starts + ends\n",
    "print('Total number of MACs is', total / duration / 1e9)\n",
    "print('Reduction compared with WaveGlow', WG_total / total)"
   ]
  },
  {
   "cell_type": "markdown",
   "metadata": {
    "colab_type": "text",
    "id": "aIgnX6Yi4BFu"
   },
   "source": [
    "**SqueezeWave L=128, C=128**"
   ]
  },
  {
   "cell_type": "code",
   "execution_count": null,
   "metadata": {
    "colab": {
     "base_uri": "https://localhost:8080/",
     "height": 153
    },
    "colab_type": "code",
    "id": "W-3Q5jW84F_t",
    "outputId": "436038c3-f3f8-4989-eeec-eb59c154b183"
   },
   "outputs": [
    {
     "name": "stdout",
     "output_type": "stream",
     "text": [
      "('MACs of in_layers', 0.5618921048275862)\n",
      "('MACs of cond_layers', 0.17355740689655172)\n",
      "('MACs of res_skip_layers', 0.2776918510344828)\n",
      "('MACs of invertible conv layers', 0.017988502068965517)\n",
      "('MACs of start conv layers', 0.011932071724137933)\n",
      "('MACs of end conv layers', 0.023864143448275865)\n",
      "('Total number of MACs is', 1.06692608)\n",
      "('Reduction compared with WaveGlow', 214)\n"
     ]
    }
   ],
   "source": [
    "L = 128 # audio length\n",
    "n_audio_channel_init = 128 # initial audio channel \n",
    "L_mel = 64 # mel-spectrogram length\n",
    "C_mel =80 # mel-spectrogram channel \n",
    "kernal_size = 3\n",
    "C_wn = 128 # input channel size of in_layer\n",
    "C_wn_middle = C_wn * 2 # output channel size of in_layer and cond_layer\n",
    "n_flows = 12\n",
    "n_layers = 8\n",
    "n_early_output = 16\n",
    "n_early_output_interval = 2\n",
    "duration = 0.725\n",
    "\n",
    "n_audio_channels = []\n",
    "n_audio = n_audio_channel_init\n",
    "for i in range(n_flows):\n",
    "  if i % n_early_output_interval == 0 and i > 0:\n",
    "    n_audio -= n_early_output\n",
    "  n_audio_channels.append(n_audio) # audio channel after early output\n",
    "\n",
    "# in_layers\n",
    "WN_in_layers = L * kernal_size * C_wn * n_layers * n_flows # depthwise\n",
    "WN_in_layers += L * C_wn * C_wn_middle * n_layers * n_flows # pointwise\n",
    "print('MACs of in_layers', WN_in_layers / duration / 1e9)\n",
    "# cond_layers\n",
    "WN_cond_layers = L_mel * C_mel * C_wn_middle * n_layers * n_flows\n",
    "print('MACs of cond_layers', WN_cond_layers / duration / 1e9)\n",
    "# res_skip_layers\n",
    "WN_res_layers = L * C_wn * C_wn * n_layers * n_flows\n",
    "print('MACs of res_skip_layers', WN_res_layers / duration / 1e9)\n",
    "# invertible convs\n",
    "inv1x1 = np.sum([n**2 * L for n in n_audio_channels])\n",
    "print('MACs of invertible conv layers', inv1x1 / duration / 1e9)\n",
    "# start\n",
    "starts = np.sum([n / 2 * C_wn * L for n in n_audio_channels])\n",
    "print('MACs of start conv layers', starts / duration / 1e9)\n",
    "#end\n",
    "ends = np.sum([C_wn * n * L for n in n_audio_channels])\n",
    "print('MACs of end conv layers', ends / duration / 1e9)\n",
    "# total\n",
    "total = WN_in_layers + WN_cond_layers + WN_res_layers + inv1x1 + starts + ends\n",
    "print('Total number of MACs is', total / duration / 1e9)\n",
    "print('Reduction compared with WaveGlow', WG_total / total)"
   ]
  },
  {
   "cell_type": "markdown",
   "metadata": {
    "colab_type": "text",
    "id": "1kWvIBWU4Vwm"
   },
   "source": [
    "**SqueezeWave L=128, C=256**"
   ]
  },
  {
   "cell_type": "code",
   "execution_count": null,
   "metadata": {
    "colab": {
     "base_uri": "https://localhost:8080/",
     "height": 153
    },
    "colab_type": "code",
    "id": "6YM2bkC14WWc",
    "outputId": "b1fd3d03-0135-400e-cfbc-28746c8d0cf0"
   },
   "outputs": [
    {
     "name": "stdout",
     "output_type": "stream",
     "text": [
      "('MACs of in_layers', 2.2345516137931036)\n",
      "('MACs of cond_layers', 0.34711481379310344)\n",
      "('MACs of res_skip_layers', 1.1107674041379312)\n",
      "('MACs of invertible conv layers', 0.017988502068965517)\n",
      "('MACs of start conv layers', 0.023864143448275865)\n",
      "('MACs of end conv layers', 0.04772828689655173)\n",
      "('Total number of MACs is', 3.7820147641379314)\n",
      "('Reduction compared with WaveGlow', 60)\n"
     ]
    }
   ],
   "source": [
    "L = 128 # audio length\n",
    "n_audio_channel_init = 128 # initial audio channel \n",
    "L_mel = 64 # mel-spectrogram length\n",
    "C_mel =80 # mel-spectrogram channel \n",
    "kernal_size = 3\n",
    "C_wn = 256 # input channel size of in_layer\n",
    "C_wn_middle = C_wn * 2 # output channel size of in_layer and cond_layer\n",
    "n_flows = 12\n",
    "n_layers = 8\n",
    "n_early_output = 16\n",
    "n_early_output_interval = 2\n",
    "duration = 0.725\n",
    "\n",
    "n_audio_channels = []\n",
    "n_audio = n_audio_channel_init\n",
    "for i in range(n_flows):\n",
    "  if i % n_early_output_interval == 0 and i > 0:\n",
    "    n_audio -= n_early_output\n",
    "  n_audio_channels.append(n_audio) # audio channel after early output\n",
    "\n",
    "# in_layers\n",
    "WN_in_layers = L * kernal_size * C_wn * n_layers * n_flows # depthwise\n",
    "WN_in_layers += L * C_wn * C_wn_middle * n_layers * n_flows # pointwise\n",
    "print('MACs of in_layers', WN_in_layers / duration / 1e9)\n",
    "# cond_layers\n",
    "WN_cond_layers = L_mel * C_mel * C_wn_middle * n_layers * n_flows\n",
    "print('MACs of cond_layers', WN_cond_layers / duration / 1e9)\n",
    "# res_skip_layers\n",
    "WN_res_layers = L * C_wn * C_wn * n_layers * n_flows\n",
    "print('MACs of res_skip_layers', WN_res_layers / duration / 1e9)\n",
    "# invertible convs\n",
    "inv1x1 = np.sum([n**2 * L for n in n_audio_channels])\n",
    "print('MACs of invertible conv layers', inv1x1 / duration / 1e9)\n",
    "# start\n",
    "starts = np.sum([n / 2 * C_wn * L for n in n_audio_channels])\n",
    "print('MACs of start conv layers', starts / duration / 1e9)\n",
    "#end\n",
    "ends = np.sum([C_wn * n * L for n in n_audio_channels])\n",
    "print('MACs of end conv layers', ends / duration / 1e9)\n",
    "# total\n",
    "total = WN_in_layers + WN_cond_layers + WN_res_layers + inv1x1 + starts + ends\n",
    "print('Total number of MACs is', total / duration / 1e9)\n",
    "print('Reduction compared with WaveGlow', WG_total / total)"
   ]
  }
 ],
 "metadata": {
  "colab": {
   "name": "SqueezeWave computational complexity.ipynb",
   "provenance": []
  },
  "kernelspec": {
   "display_name": "Python 3",
   "language": "python",
   "name": "python3"
  },
  "language_info": {
   "codemirror_mode": {
    "name": "ipython",
    "version": 3
   },
   "file_extension": ".py",
   "mimetype": "text/x-python",
   "name": "python",
   "nbconvert_exporter": "python",
   "pygments_lexer": "ipython3",
   "version": "3.7.6"
  }
 },
 "nbformat": 4,
 "nbformat_minor": 4
}
