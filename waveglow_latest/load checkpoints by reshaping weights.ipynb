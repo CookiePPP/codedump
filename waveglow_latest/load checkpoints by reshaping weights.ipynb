{
 "cells": [
  {
   "cell_type": "code",
   "execution_count": 1,
   "metadata": {},
   "outputs": [],
   "source": [
    "import argparse\n",
    "import json\n",
    "import os\n",
    "import torch\n",
    "import os.path\n",
    "import sys\n",
    "import time\n",
    "from math import ceil, e, exp\n",
    "import math\n",
    "\n",
    "import numpy as np\n",
    "import soundfile as sf"
   ]
  },
  {
   "cell_type": "markdown",
   "metadata": {},
   "source": [
    "# Load (source) config file"
   ]
  },
  {
   "cell_type": "code",
   "execution_count": 2,
   "metadata": {},
   "outputs": [
    {
     "name": "stdout",
     "output_type": "stream",
     "text": [
      "{'yoyo': True,\n",
      " 'yoyo_WN': False,\n",
      " 'n_mel_channels': 160,\n",
      " 'n_flows': 48,\n",
      " 'n_group': 24,\n",
      " 'n_early_every': 8,\n",
      " 'n_early_size': 2,\n",
      " 'memory_efficient': True,\n",
      " 'spect_scaling': False,\n",
      " 'upsample_mode': 'normal',\n",
      " 'WN_config': {'n_layers': 8,\n",
      " 'n_channels': 256,\n",
      " 'kernel_size': 3,\n",
      " 'speaker_embed_dim': 0,\n",
      " 'rezero': False},\n",
      " 'win_length': 2400,\n",
      " 'hop_length': 600}\n"
     ]
    }
   ],
   "source": [
    "config_fpath = r\"H:\\TTCheckpoints\\waveglow\\outdir_EfficientLarge3\\config.json\"\n",
    "\n",
    "# Parse configs.  Globals nicer in this case\n",
    "with open(config_fpath) as f:\n",
    "    data = f.read()\n",
    "config = json.loads(data)\n",
    "train_config = config[\"train_config\"]\n",
    "global data_config\n",
    "data_config = config[\"data_config\"]\n",
    "global dist_config\n",
    "dist_config = config[\"dist_config\"]\n",
    "global waveglow_config\n",
    "waveglow_config = {\n",
    "    **config[\"waveglow_config\"], \n",
    "    'win_length': data_config['win_length'],\n",
    "    'hop_length': data_config['hop_length']\n",
    "}\n",
    "print(str(waveglow_config).replace(\",\",\",\\n\"))"
   ]
  },
  {
   "cell_type": "markdown",
   "metadata": {},
   "source": [
    "# Initialise Blank Target Model"
   ]
  },
  {
   "cell_type": "code",
   "execution_count": 3,
   "metadata": {},
   "outputs": [],
   "source": [
    "if waveglow_config[\"yoyo\"]: # efficient_mode # TODO: Add to Config File\n",
    "    from efficient_model import WaveGlow\n",
    "    from efficient_loss import WaveGlowLoss\n",
    "else:\n",
    "    from glow import WaveGlow, WaveGlowLoss\n",
    "model = WaveGlow(**waveglow_config).cuda()"
   ]
  },
  {
   "cell_type": "markdown",
   "metadata": {},
   "source": [
    "# Load Checkpoint"
   ]
  },
  {
   "cell_type": "code",
   "execution_count": 5,
   "metadata": {},
   "outputs": [],
   "source": [
    "checkpoint_path = r\"H:\\TTCheckpoints\\waveglow\\outdir_EfficientLarge3\\waveglow_90065\"\n",
    "\n",
    "assert os.path.isfile(checkpoint_path)\n",
    "checkpoint_dict = torch.load(checkpoint_path, map_location='cpu')\n",
    "model_dict = checkpoint_dict['model']\n",
    "if (str(type(model_dict)) != \"<class 'collections.OrderedDict'>\"):\n",
    "    model_dict = model_dict.state_dict()\n",
    "\n",
    "#model = model.cuda()"
   ]
  },
  {
   "cell_type": "markdown",
   "metadata": {},
   "source": [
    "# Reshape the Weights"
   ]
  },
  {
   "cell_type": "code",
   "execution_count": 11,
   "metadata": {},
   "outputs": [
    {
     "name": "stdout",
     "output_type": "stream",
     "text": [
      "torch.Size([24, 24, 1])\n",
      "convinv.0.weight\n"
     ]
    }
   ],
   "source": [
    "for key, weights in model_dict.items():\n",
    "    print(weights.shape)\n",
    "    print(key)\n",
    "    break"
   ]
  },
  {
   "cell_type": "code",
   "execution_count": null,
   "metadata": {},
   "outputs": [],
   "source": []
  }
 ],
 "metadata": {
  "kernelspec": {
   "display_name": "Python 3",
   "language": "python",
   "name": "python3"
  },
  "language_info": {
   "codemirror_mode": {
    "name": "ipython",
    "version": 3
   },
   "file_extension": ".py",
   "mimetype": "text/x-python",
   "name": "python",
   "nbconvert_exporter": "python",
   "pygments_lexer": "ipython3",
   "version": "3.6.8"
  }
 },
 "nbformat": 4,
 "nbformat_minor": 4
}
