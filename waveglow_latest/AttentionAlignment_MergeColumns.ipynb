{
 "cells": [
  {
   "cell_type": "code",
   "execution_count": 12,
   "metadata": {},
   "outputs": [
    {
     "name": "stdout",
     "output_type": "stream",
     "text": [
      "tensor([0, 1, 2, 3, 4, 5, 6, 7, 8, 9])\n",
      "tensor(5)\n"
     ]
    }
   ],
   "source": [
    "import torch\n",
    "import torch.nn as nn\n",
    "import numpy as np"
   ]
  },
  {
   "cell_type": "code",
   "execution_count": 20,
   "metadata": {},
   "outputs": [
    {
     "name": "stdout",
     "output_type": "stream",
     "text": [
      "tensor([0., 1., 2., 3., 4., 5., 6., 7., 8., 9.])\n",
      "tensor(5.)\n",
      "tensor([0., 1., 2., 3., 4., 5., 6., 7., 8., 9.])\n",
      "tensor([0., 1., 2., 3., 4., 6., 7., 8., 9.])\n",
      "tensor([0.0000, 1.0000, 2.0000, 3.0000, 4.5000, 6.0000, 7.0000, 8.0000, 9.0000])\n"
     ]
    }
   ],
   "source": [
    "x = torch.arange(10).float()\n",
    "def merge(tensor, indexA, indexB):\n",
    "    print(x)\n",
    "    print(x[indexB])\n",
    "    y = x\n",
    "    print(y)\n",
    "    y = x[x!=x[indexB]]\n",
    "    print(y)\n",
    "    y[indexA]+=x[indexB]\n",
    "    y[indexA]/=2.0\n",
    "    print(y)\n",
    "merge(x, 4, 5)"
   ]
  },
  {
   "cell_type": "code",
   "execution_count": null,
   "metadata": {},
   "outputs": [],
   "source": []
  }
 ],
 "metadata": {
  "kernelspec": {
   "display_name": "Python 3",
   "language": "python",
   "name": "python3"
  },
  "language_info": {
   "codemirror_mode": {
    "name": "ipython",
    "version": 3
   },
   "file_extension": ".py",
   "mimetype": "text/x-python",
   "name": "python",
   "nbconvert_exporter": "python",
   "pygments_lexer": "ipython3",
   "version": "3.6.8"
  }
 },
 "nbformat": 4,
 "nbformat_minor": 4
}
